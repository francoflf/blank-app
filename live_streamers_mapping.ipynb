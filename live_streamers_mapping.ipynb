{
 "cells": [
  {
   "cell_type": "code",
   "execution_count": 153,
   "metadata": {},
   "outputs": [],
   "source": [
    "import requests\n",
    "import secrets\n",
    "import hashlib\n",
    "import base64\n",
    "from urllib.parse import urlencode, quote\n",
    "from flask import Flask, request, redirect, url_for, session"
   ]
  },
  {
   "cell_type": "code",
   "execution_count": 168,
   "metadata": {},
   "outputs": [
    {
     "name": "stdout",
     "output_type": "stream",
     "text": [
      " * Serving Flask app '__main__'\n",
      " * Debug mode: on\n"
     ]
    },
    {
     "name": "stderr",
     "output_type": "stream",
     "text": [
      "WARNING: This is a development server. Do not use it in a production deployment. Use a production WSGI server instead.\n",
      " * Running on http://127.0.0.1:5001\n",
      "Press CTRL+C to quit\n",
      " * Restarting with watchdog (windowsapi)\n"
     ]
    },
    {
     "ename": "SystemExit",
     "evalue": "1",
     "output_type": "error",
     "traceback": [
      "An exception has occurred, use %tb to see the full traceback.\n",
      "\u001b[1;31mSystemExit\u001b[0m\u001b[1;31m:\u001b[0m 1\n"
     ]
    }
   ],
   "source": [
    "# Datos de tu aplicación\n",
    "CLIENT_ID = \"01JMMS7DVKKB10JM3KHCMCQ355\"\n",
    "CLIENT_SECRET = \"29ccdadaac0c46088f55f75edc11d7c559db8f0c5a8c1f2e79793f7e9f8d1848\"\n",
    "REDIRECT_URI = \"https://blank-app-7n69k0rfqzl.streamlit.app\"\n",
    "SCOPES = \"user:read channel:read\"\n",
    "\n",
    "app = Flask(__name__)\n",
    "app.secret_key = secrets.token_urlsafe(32)  # ¡Secreto para la sesión!\n",
    "\n",
    "\n",
    "\n",
    "\n",
    "def generate_code_verifier():\n",
    "    \"\"\"Genera un código verificador aleatorio.\"\"\"\n",
    "    return secrets.token_urlsafe(32)\n",
    "\n",
    "def generate_code_challenge(code_verifier):\n",
    "    \"\"\"Genera un código challenge usando PKCE.\"\"\"\n",
    "    code_challenge = hashlib.sha256(code_verifier.encode('utf-8')).digest()\n",
    "    code_challenge = base64.b64encode(code_challenge).decode('utf-8')\n",
    "    code_challenge = code_challenge.replace('+', '-').replace('/', '_').replace('=', '')\n",
    "    return code_challenge\n",
    "\n",
    "# --- Flujo de autorización ---\n",
    "\n",
    "def get_authorization_url():\n",
    "    \"\"\"Construye la URL de autorización.\"\"\"\n",
    "    code_verifier = generate_code_verifier()\n",
    "    code_challenge = generate_code_challenge(code_verifier)\n",
    "    state = secrets.token_urlsafe(16)  # Genera un valor aleatorio para el estado\n",
    "\n",
    "    params = {\n",
    "        \"response_type\": \"code\",\n",
    "        \"client_id\": CLIENT_ID,\n",
    "        \"redirect_uri\": REDIRECT_URI,\n",
    "        \"scope\": SCOPES,\n",
    "        \"code_challenge\": code_challenge,\n",
    "        \"code_challenge_method\": \"S256\",\n",
    "        \"state\": state\n",
    "    }\n",
    "\n",
    "    authorization_url = f\"https://id.kick.com/oauth/authorize?{urlencode(params)}\"\n",
    "    return authorization_url, code_verifier, state\n",
    "\n",
    "\n",
    "def get_access_token(authorization_code, code_verifier):\n",
    "    \"\"\"Intercambia el código de autorización por un token de acceso.\"\"\"\n",
    "    data = {\n",
    "        \"grant_type\": \"authorization_code\",\n",
    "        \"client_id\": CLIENT_ID,\n",
    "        \"client_secret\": CLIENT_SECRET,\n",
    "        \"redirect_uri\": REDIRECT_URI,\n",
    "        \"code_verifier\": code_verifier,\n",
    "        \"code\": authorization_code\n",
    "    }       \n",
    "        \n",
    "\n",
    "    response = requests.post(\"https://id.kick.com/oauth/token\", data=data)\n",
    "\n",
    "    if response.status_code == 200:\n",
    "        return response.json()\n",
    "    else:\n",
    "        print(f\"Error al obtener el token: {response.status_code} - {response.text}\")\n",
    "        return None\n",
    "\n",
    "\n",
    "\n",
    "def refresh_access_token(authorization_code):\n",
    "    \"\"\"Refresca el token de acceso usando el refresh token.\"\"\"\n",
    "    data = {\n",
    "        \"grant_type\": \"refresh_token\",\n",
    "        \"client_id\": CLIENT_ID,\n",
    "        \"client_secret\": CLIENT_SECRET,\n",
    "        \"refresh_token\": authorization_code,\n",
    "    }\n",
    "    response = requests.post(\"https://id.kick.com/oauth/token\", data=data)\n",
    "\n",
    "    if response.status_code == 200:\n",
    "        return response.json()\n",
    "    else:\n",
    "        print(f\"Error al refrescar el token: {response.status_code} - {response.text}\")\n",
    "        return None\n",
    "\n",
    "def revoke_token(token, token_hint_type=None):\n",
    "    \"\"\"Revoca un token (access token o refresh token).\"\"\"\n",
    "    params = {\"token\": token}\n",
    "    if token_hint_type:\n",
    "        params[\"token_hint_type\"] = token_hint_type\n",
    "    print(f\"https://id.kick.com/oauth/revoke?{urlencode(params)}\")\n",
    "    response = requests.post(f\"https://id.kick.com/oauth/revoke?{urlencode(params)}\")\n",
    "\n",
    "    if response.status_code == 200:\n",
    "        print(\"Token revocado correctamente.\")\n",
    "    else:\n",
    "        print(f\"Error al revocar el token: {response.status_code} - {response.text}\")\n",
    "\n",
    "#########################################################\n",
    "@app.route(\"/callback\")\n",
    "def callback():\n",
    "    code = request.args.get(\"code\")\n",
    "    state = request.args.get(\"state\")\n",
    "\n",
    "    if state != session.get(\"state\"):  # ¡Verificación del estado!\n",
    "        return \"Error: Estado no válido\", 400\n",
    "\n",
    "    if code:\n",
    "        token_data = get_access_token(code, session.get(\"code_verifier\"))\n",
    "        if token_data:\n",
    "            session[\"access_token\"] = token_data[\"access_token\"]\n",
    "            session[\"refresh_token\"] = token_data[\"refresh_token\"]\n",
    "            return redirect(url_for(\"success\")) # Redirige a una página de éxito\n",
    "        else:\n",
    "            return \"Error al obtener el token\"\n",
    "    else:\n",
    "        return \"Error: No se recibió el código de autorización\"\n",
    "\n",
    "\n",
    "@app.route(\"/success\") # Página de éxito\n",
    "def success():\n",
    "    access_token = session.get(\"access_token\")\n",
    "    if access_token:\n",
    "        response = requests.get(\n",
    "            \"https://api.kick.com/public/v1/categories?q=ga%\",\n",
    "            headers={\"Authorization\": f\"Bearer {access_token}\"}, # Usa Bearer token\n",
    "        )\n",
    "        data = response.json()\n",
    "        return f\"Datos de la API: {data}\"  # Muestra los datos\n",
    "    else:\n",
    "        return \"No hay token de acceso\"\n",
    "\n",
    "@app.route(\"/\")\n",
    "def index():\n",
    "    auth_url, code_verifier, state = get_authorization_url()\n",
    "    session[\"code_verifier\"] = code_verifier # Guarda code_verifier en la sesión\n",
    "    session[\"state\"] = state # Guarda state en la sesión\n",
    "    return f'<a href=\"{auth_url}\">Autorizar con Kick</a>'\n",
    "\n",
    "if __name__ == \"__main__\":\n",
    "    app.run(debug=True, port=5001)\n"
   ]
  },
  {
   "cell_type": "code",
   "execution_count": 169,
   "metadata": {},
   "outputs": [
    {
     "ename": "SystemExit",
     "evalue": "1",
     "output_type": "error",
     "traceback": [
      "\u001b[1;31m---------------------------------------------------------------------------\u001b[0m",
      "\u001b[1;31mSystemExit\u001b[0m                                Traceback (most recent call last)",
      "Cell \u001b[1;32mIn[168], line 139\u001b[0m\n\u001b[0;32m    136\u001b[0m     \u001b[38;5;28;01mreturn\u001b[39;00m \u001b[38;5;124mf\u001b[39m\u001b[38;5;124m'\u001b[39m\u001b[38;5;124m<a href=\u001b[39m\u001b[38;5;124m\"\u001b[39m\u001b[38;5;132;01m{\u001b[39;00mauth_url\u001b[38;5;132;01m}\u001b[39;00m\u001b[38;5;124m\"\u001b[39m\u001b[38;5;124m>Autorizar con Kick</a>\u001b[39m\u001b[38;5;124m'\u001b[39m\n\u001b[0;32m    138\u001b[0m \u001b[38;5;28;01mif\u001b[39;00m \u001b[38;5;18m__name__\u001b[39m \u001b[38;5;241m==\u001b[39m \u001b[38;5;124m\"\u001b[39m\u001b[38;5;124m__main__\u001b[39m\u001b[38;5;124m\"\u001b[39m:\n\u001b[1;32m--> 139\u001b[0m     \u001b[43mapp\u001b[49m\u001b[38;5;241;43m.\u001b[39;49m\u001b[43mrun\u001b[49m\u001b[43m(\u001b[49m\u001b[43mdebug\u001b[49m\u001b[38;5;241;43m=\u001b[39;49m\u001b[38;5;28;43;01mTrue\u001b[39;49;00m\u001b[43m,\u001b[49m\u001b[43m \u001b[49m\u001b[43mport\u001b[49m\u001b[38;5;241;43m=\u001b[39;49m\u001b[38;5;241;43m5001\u001b[39;49m\u001b[43m)\u001b[49m\n",
      "File \u001b[1;32md:\\14. Github\\blank-app\\.venv\\Lib\\site-packages\\flask\\app.py:662\u001b[0m, in \u001b[0;36mFlask.run\u001b[1;34m(self, host, port, debug, load_dotenv, **options)\u001b[0m\n\u001b[0;32m    659\u001b[0m \u001b[38;5;28;01mfrom\u001b[39;00m\u001b[38;5;250m \u001b[39m\u001b[38;5;21;01mwerkzeug\u001b[39;00m\u001b[38;5;21;01m.\u001b[39;00m\u001b[38;5;21;01mserving\u001b[39;00m\u001b[38;5;250m \u001b[39m\u001b[38;5;28;01mimport\u001b[39;00m run_simple\n\u001b[0;32m    661\u001b[0m \u001b[38;5;28;01mtry\u001b[39;00m:\n\u001b[1;32m--> 662\u001b[0m     \u001b[43mrun_simple\u001b[49m\u001b[43m(\u001b[49m\u001b[43mt\u001b[49m\u001b[38;5;241;43m.\u001b[39;49m\u001b[43mcast\u001b[49m\u001b[43m(\u001b[49m\u001b[38;5;28;43mstr\u001b[39;49m\u001b[43m,\u001b[49m\u001b[43m \u001b[49m\u001b[43mhost\u001b[49m\u001b[43m)\u001b[49m\u001b[43m,\u001b[49m\u001b[43m \u001b[49m\u001b[43mport\u001b[49m\u001b[43m,\u001b[49m\u001b[43m \u001b[49m\u001b[38;5;28;43mself\u001b[39;49m\u001b[43m,\u001b[49m\u001b[43m \u001b[49m\u001b[38;5;241;43m*\u001b[39;49m\u001b[38;5;241;43m*\u001b[39;49m\u001b[43moptions\u001b[49m\u001b[43m)\u001b[49m\n\u001b[0;32m    663\u001b[0m \u001b[38;5;28;01mfinally\u001b[39;00m:\n\u001b[0;32m    664\u001b[0m     \u001b[38;5;66;03m# reset the first request information if the development server\u001b[39;00m\n\u001b[0;32m    665\u001b[0m     \u001b[38;5;66;03m# reset normally.  This makes it possible to restart the server\u001b[39;00m\n\u001b[0;32m    666\u001b[0m     \u001b[38;5;66;03m# without reloader and that stuff from an interactive shell.\u001b[39;00m\n\u001b[0;32m    667\u001b[0m     \u001b[38;5;28mself\u001b[39m\u001b[38;5;241m.\u001b[39m_got_first_request \u001b[38;5;241m=\u001b[39m \u001b[38;5;28;01mFalse\u001b[39;00m\n",
      "File \u001b[1;32md:\\14. Github\\blank-app\\.venv\\Lib\\site-packages\\werkzeug\\serving.py:1115\u001b[0m, in \u001b[0;36mrun_simple\u001b[1;34m(hostname, port, application, use_reloader, use_debugger, use_evalex, extra_files, exclude_patterns, reloader_interval, reloader_type, threaded, processes, request_handler, static_files, passthrough_errors, ssl_context)\u001b[0m\n\u001b[0;32m   1112\u001b[0m \u001b[38;5;28;01mfrom\u001b[39;00m\u001b[38;5;250m \u001b[39m\u001b[38;5;21;01m.\u001b[39;00m\u001b[38;5;21;01m_reloader\u001b[39;00m\u001b[38;5;250m \u001b[39m\u001b[38;5;28;01mimport\u001b[39;00m run_with_reloader\n\u001b[0;32m   1114\u001b[0m \u001b[38;5;28;01mtry\u001b[39;00m:\n\u001b[1;32m-> 1115\u001b[0m     \u001b[43mrun_with_reloader\u001b[49m\u001b[43m(\u001b[49m\n\u001b[0;32m   1116\u001b[0m \u001b[43m        \u001b[49m\u001b[43msrv\u001b[49m\u001b[38;5;241;43m.\u001b[39;49m\u001b[43mserve_forever\u001b[49m\u001b[43m,\u001b[49m\n\u001b[0;32m   1117\u001b[0m \u001b[43m        \u001b[49m\u001b[43mextra_files\u001b[49m\u001b[38;5;241;43m=\u001b[39;49m\u001b[43mextra_files\u001b[49m\u001b[43m,\u001b[49m\n\u001b[0;32m   1118\u001b[0m \u001b[43m        \u001b[49m\u001b[43mexclude_patterns\u001b[49m\u001b[38;5;241;43m=\u001b[39;49m\u001b[43mexclude_patterns\u001b[49m\u001b[43m,\u001b[49m\n\u001b[0;32m   1119\u001b[0m \u001b[43m        \u001b[49m\u001b[43minterval\u001b[49m\u001b[38;5;241;43m=\u001b[39;49m\u001b[43mreloader_interval\u001b[49m\u001b[43m,\u001b[49m\n\u001b[0;32m   1120\u001b[0m \u001b[43m        \u001b[49m\u001b[43mreloader_type\u001b[49m\u001b[38;5;241;43m=\u001b[39;49m\u001b[43mreloader_type\u001b[49m\u001b[43m,\u001b[49m\n\u001b[0;32m   1121\u001b[0m \u001b[43m    \u001b[49m\u001b[43m)\u001b[49m\n\u001b[0;32m   1122\u001b[0m \u001b[38;5;28;01mfinally\u001b[39;00m:\n\u001b[0;32m   1123\u001b[0m     srv\u001b[38;5;241m.\u001b[39mserver_close()\n",
      "File \u001b[1;32md:\\14. Github\\blank-app\\.venv\\Lib\\site-packages\\werkzeug\\_reloader.py:469\u001b[0m, in \u001b[0;36mrun_with_reloader\u001b[1;34m(main_func, extra_files, exclude_patterns, interval, reloader_type)\u001b[0m\n\u001b[0;32m    467\u001b[0m             reloader\u001b[38;5;241m.\u001b[39mrun()\n\u001b[0;32m    468\u001b[0m     \u001b[38;5;28;01melse\u001b[39;00m:\n\u001b[1;32m--> 469\u001b[0m         \u001b[43msys\u001b[49m\u001b[38;5;241;43m.\u001b[39;49m\u001b[43mexit\u001b[49m\u001b[43m(\u001b[49m\u001b[43mreloader\u001b[49m\u001b[38;5;241;43m.\u001b[39;49m\u001b[43mrestart_with_reloader\u001b[49m\u001b[43m(\u001b[49m\u001b[43m)\u001b[49m\u001b[43m)\u001b[49m\n\u001b[0;32m    470\u001b[0m \u001b[38;5;28;01mexcept\u001b[39;00m \u001b[38;5;167;01mKeyboardInterrupt\u001b[39;00m:\n\u001b[0;32m    471\u001b[0m     \u001b[38;5;28;01mpass\u001b[39;00m\n",
      "\u001b[1;31mSystemExit\u001b[0m: 1"
     ]
    }
   ],
   "source": [
    "%tb"
   ]
  },
  {
   "cell_type": "code",
   "execution_count": 170,
   "metadata": {},
   "outputs": [
    {
     "name": "stdout",
     "output_type": "stream",
     "text": [
      " * Serving Flask app '__main__'\n",
      " * Debug mode: on\n"
     ]
    },
    {
     "name": "stderr",
     "output_type": "stream",
     "text": [
      "WARNING: This is a development server. Do not use it in a production deployment. Use a production WSGI server instead.\n",
      " * Running on http://127.0.0.1:5001\n",
      "Press CTRL+C to quit\n",
      " * Restarting with watchdog (windowsapi)\n"
     ]
    },
    {
     "ename": "SystemExit",
     "evalue": "1",
     "output_type": "error",
     "traceback": [
      "An exception has occurred, use %tb to see the full traceback.\n",
      "\u001b[1;31mSystemExit\u001b[0m\u001b[1;31m:\u001b[0m 1\n"
     ]
    },
    {
     "name": "stderr",
     "output_type": "stream",
     "text": [
      "d:\\14. Github\\blank-app\\.venv\\Lib\\site-packages\\IPython\\core\\interactiveshell.py:3587: UserWarning: To exit: use 'exit', 'quit', or Ctrl-D.\n",
      "  warn(\"To exit: use 'exit', 'quit', or Ctrl-D.\", stacklevel=1)\n"
     ]
    }
   ],
   "source": [
    "from flask import Flask\n",
    "\n",
    "app = Flask(__name__)\n",
    "\n",
    "@app.route(\"/\")\n",
    "def hello():\n",
    "    return \"Hola, mundo!\"\n",
    "\n",
    "if __name__ == \"__main__\":\n",
    "    app.run(debug=True, port=5001)"
   ]
  },
  {
   "cell_type": "code",
   "execution_count": 171,
   "metadata": {},
   "outputs": [
    {
     "ename": "SystemExit",
     "evalue": "1",
     "output_type": "error",
     "traceback": [
      "\u001b[1;31m---------------------------------------------------------------------------\u001b[0m",
      "\u001b[1;31mSystemExit\u001b[0m                                Traceback (most recent call last)",
      "Cell \u001b[1;32mIn[170], line 10\u001b[0m\n\u001b[0;32m      7\u001b[0m     \u001b[38;5;28;01mreturn\u001b[39;00m \u001b[38;5;124m\"\u001b[39m\u001b[38;5;124mHola, mundo!\u001b[39m\u001b[38;5;124m\"\u001b[39m\n\u001b[0;32m      9\u001b[0m \u001b[38;5;28;01mif\u001b[39;00m \u001b[38;5;18m__name__\u001b[39m \u001b[38;5;241m==\u001b[39m \u001b[38;5;124m\"\u001b[39m\u001b[38;5;124m__main__\u001b[39m\u001b[38;5;124m\"\u001b[39m:\n\u001b[1;32m---> 10\u001b[0m     \u001b[43mapp\u001b[49m\u001b[38;5;241;43m.\u001b[39;49m\u001b[43mrun\u001b[49m\u001b[43m(\u001b[49m\u001b[43mdebug\u001b[49m\u001b[38;5;241;43m=\u001b[39;49m\u001b[38;5;28;43;01mTrue\u001b[39;49;00m\u001b[43m,\u001b[49m\u001b[43m \u001b[49m\u001b[43mport\u001b[49m\u001b[38;5;241;43m=\u001b[39;49m\u001b[38;5;241;43m5001\u001b[39;49m\u001b[43m)\u001b[49m\n",
      "File \u001b[1;32md:\\14. Github\\blank-app\\.venv\\Lib\\site-packages\\flask\\app.py:662\u001b[0m, in \u001b[0;36mFlask.run\u001b[1;34m(self, host, port, debug, load_dotenv, **options)\u001b[0m\n\u001b[0;32m    659\u001b[0m \u001b[38;5;28;01mfrom\u001b[39;00m\u001b[38;5;250m \u001b[39m\u001b[38;5;21;01mwerkzeug\u001b[39;00m\u001b[38;5;21;01m.\u001b[39;00m\u001b[38;5;21;01mserving\u001b[39;00m\u001b[38;5;250m \u001b[39m\u001b[38;5;28;01mimport\u001b[39;00m run_simple\n\u001b[0;32m    661\u001b[0m \u001b[38;5;28;01mtry\u001b[39;00m:\n\u001b[1;32m--> 662\u001b[0m     \u001b[43mrun_simple\u001b[49m\u001b[43m(\u001b[49m\u001b[43mt\u001b[49m\u001b[38;5;241;43m.\u001b[39;49m\u001b[43mcast\u001b[49m\u001b[43m(\u001b[49m\u001b[38;5;28;43mstr\u001b[39;49m\u001b[43m,\u001b[49m\u001b[43m \u001b[49m\u001b[43mhost\u001b[49m\u001b[43m)\u001b[49m\u001b[43m,\u001b[49m\u001b[43m \u001b[49m\u001b[43mport\u001b[49m\u001b[43m,\u001b[49m\u001b[43m \u001b[49m\u001b[38;5;28;43mself\u001b[39;49m\u001b[43m,\u001b[49m\u001b[43m \u001b[49m\u001b[38;5;241;43m*\u001b[39;49m\u001b[38;5;241;43m*\u001b[39;49m\u001b[43moptions\u001b[49m\u001b[43m)\u001b[49m\n\u001b[0;32m    663\u001b[0m \u001b[38;5;28;01mfinally\u001b[39;00m:\n\u001b[0;32m    664\u001b[0m     \u001b[38;5;66;03m# reset the first request information if the development server\u001b[39;00m\n\u001b[0;32m    665\u001b[0m     \u001b[38;5;66;03m# reset normally.  This makes it possible to restart the server\u001b[39;00m\n\u001b[0;32m    666\u001b[0m     \u001b[38;5;66;03m# without reloader and that stuff from an interactive shell.\u001b[39;00m\n\u001b[0;32m    667\u001b[0m     \u001b[38;5;28mself\u001b[39m\u001b[38;5;241m.\u001b[39m_got_first_request \u001b[38;5;241m=\u001b[39m \u001b[38;5;28;01mFalse\u001b[39;00m\n",
      "File \u001b[1;32md:\\14. Github\\blank-app\\.venv\\Lib\\site-packages\\werkzeug\\serving.py:1115\u001b[0m, in \u001b[0;36mrun_simple\u001b[1;34m(hostname, port, application, use_reloader, use_debugger, use_evalex, extra_files, exclude_patterns, reloader_interval, reloader_type, threaded, processes, request_handler, static_files, passthrough_errors, ssl_context)\u001b[0m\n\u001b[0;32m   1112\u001b[0m \u001b[38;5;28;01mfrom\u001b[39;00m\u001b[38;5;250m \u001b[39m\u001b[38;5;21;01m.\u001b[39;00m\u001b[38;5;21;01m_reloader\u001b[39;00m\u001b[38;5;250m \u001b[39m\u001b[38;5;28;01mimport\u001b[39;00m run_with_reloader\n\u001b[0;32m   1114\u001b[0m \u001b[38;5;28;01mtry\u001b[39;00m:\n\u001b[1;32m-> 1115\u001b[0m     \u001b[43mrun_with_reloader\u001b[49m\u001b[43m(\u001b[49m\n\u001b[0;32m   1116\u001b[0m \u001b[43m        \u001b[49m\u001b[43msrv\u001b[49m\u001b[38;5;241;43m.\u001b[39;49m\u001b[43mserve_forever\u001b[49m\u001b[43m,\u001b[49m\n\u001b[0;32m   1117\u001b[0m \u001b[43m        \u001b[49m\u001b[43mextra_files\u001b[49m\u001b[38;5;241;43m=\u001b[39;49m\u001b[43mextra_files\u001b[49m\u001b[43m,\u001b[49m\n\u001b[0;32m   1118\u001b[0m \u001b[43m        \u001b[49m\u001b[43mexclude_patterns\u001b[49m\u001b[38;5;241;43m=\u001b[39;49m\u001b[43mexclude_patterns\u001b[49m\u001b[43m,\u001b[49m\n\u001b[0;32m   1119\u001b[0m \u001b[43m        \u001b[49m\u001b[43minterval\u001b[49m\u001b[38;5;241;43m=\u001b[39;49m\u001b[43mreloader_interval\u001b[49m\u001b[43m,\u001b[49m\n\u001b[0;32m   1120\u001b[0m \u001b[43m        \u001b[49m\u001b[43mreloader_type\u001b[49m\u001b[38;5;241;43m=\u001b[39;49m\u001b[43mreloader_type\u001b[49m\u001b[43m,\u001b[49m\n\u001b[0;32m   1121\u001b[0m \u001b[43m    \u001b[49m\u001b[43m)\u001b[49m\n\u001b[0;32m   1122\u001b[0m \u001b[38;5;28;01mfinally\u001b[39;00m:\n\u001b[0;32m   1123\u001b[0m     srv\u001b[38;5;241m.\u001b[39mserver_close()\n",
      "File \u001b[1;32md:\\14. Github\\blank-app\\.venv\\Lib\\site-packages\\werkzeug\\_reloader.py:469\u001b[0m, in \u001b[0;36mrun_with_reloader\u001b[1;34m(main_func, extra_files, exclude_patterns, interval, reloader_type)\u001b[0m\n\u001b[0;32m    467\u001b[0m             reloader\u001b[38;5;241m.\u001b[39mrun()\n\u001b[0;32m    468\u001b[0m     \u001b[38;5;28;01melse\u001b[39;00m:\n\u001b[1;32m--> 469\u001b[0m         \u001b[43msys\u001b[49m\u001b[38;5;241;43m.\u001b[39;49m\u001b[43mexit\u001b[49m\u001b[43m(\u001b[49m\u001b[43mreloader\u001b[49m\u001b[38;5;241;43m.\u001b[39;49m\u001b[43mrestart_with_reloader\u001b[49m\u001b[43m(\u001b[49m\u001b[43m)\u001b[49m\u001b[43m)\u001b[49m\n\u001b[0;32m    470\u001b[0m \u001b[38;5;28;01mexcept\u001b[39;00m \u001b[38;5;167;01mKeyboardInterrupt\u001b[39;00m:\n\u001b[0;32m    471\u001b[0m     \u001b[38;5;28;01mpass\u001b[39;00m\n",
      "\u001b[1;31mSystemExit\u001b[0m: 1"
     ]
    }
   ],
   "source": [
    "%tb"
   ]
  },
  {
   "cell_type": "code",
   "execution_count": 139,
   "metadata": {},
   "outputs": [
    {
     "name": "stdout",
     "output_type": "stream",
     "text": [
      "Redirige al usuario a esta URL: https://id.kick.com/oauth/authorize?response_type=code&client_id=01JMMS7DVKKB10JM3KHCMCQ355&redirect_uri=https%3A%2F%2Fblank-app-7n69k0rfqzl.streamlit.app&scope=user%3Aread+channel%3Aread&code_challenge=GHqc0QD3yf1AUsxouKdlEuUAMG3uUyxjtin9DUwvdmA&code_challenge_method=S256&state=lSNmiCShWH6fE5RQOerF_g\n"
     ]
    }
   ],
   "source": [
    "auth_url, code_verifier, state = get_authorization_url()\n",
    "print(f\"Redirige al usuario a esta URL: {auth_url}\")"
   ]
  },
  {
   "cell_type": "code",
   "execution_count": 127,
   "metadata": {},
   "outputs": [],
   "source": [
    "from selenium import webdriver\n",
    "from selenium.webdriver.common.by import By\n",
    "from urllib.parse import urlparse, parse_qs\n",
    "import time"
   ]
  },
  {
   "cell_type": "code",
   "execution_count": 134,
   "metadata": {},
   "outputs": [
    {
     "name": "stdout",
     "output_type": "stream",
     "text": [
      "1\n",
      "2\n",
      "Error al hacer clic en el botón (XPath - Texto): Message: no such element: Unable to locate element: {\"method\":\"xpath\",\"selector\":\"//button[contains(text(), 'Allow Access')]\"}\n",
      "  (Session info: chrome=133.0.6943.127); For documentation on this error, please visit: https://www.selenium.dev/documentation/webdriver/troubleshooting/errors#no-such-element-exception\n",
      "Stacktrace:\n",
      "\tGetHandleVerifier [0x00007FF6233B6EE5+28773]\n",
      "\t(No symbol) [0x00007FF6233225D0]\n",
      "\t(No symbol) [0x00007FF6231B8FAA]\n",
      "\t(No symbol) [0x00007FF62320F286]\n",
      "\t(No symbol) [0x00007FF62320F4BC]\n",
      "\t(No symbol) [0x00007FF623262A27]\n",
      "\t(No symbol) [0x00007FF62323728F]\n",
      "\t(No symbol) [0x00007FF62325F6F3]\n",
      "\t(No symbol) [0x00007FF623237023]\n",
      "\t(No symbol) [0x00007FF6231FFF5E]\n",
      "\t(No symbol) [0x00007FF6232011E3]\n",
      "\tGetHandleVerifier [0x00007FF62370422D+3490733]\n",
      "\tGetHandleVerifier [0x00007FF62371BA13+3586963]\n",
      "\tGetHandleVerifier [0x00007FF62371144D+3544525]\n",
      "\tGetHandleVerifier [0x00007FF62347C9AA+838442]\n",
      "\t(No symbol) [0x00007FF62332D01F]\n",
      "\t(No symbol) [0x00007FF6233295E4]\n",
      "\t(No symbol) [0x00007FF623329786]\n",
      "\t(No symbol) [0x00007FF623318CB9]\n",
      "\tBaseThreadInitThunk [0x00007FF8FB6EE8D7+23]\n",
      "\tRtlUserThreadStart [0x00007FF8FCE3BF2C+44]\n",
      "\n"
     ]
    },
    {
     "ename": "ValueError",
     "evalue": "not enough values to unpack (expected 3, got 2)",
     "output_type": "error",
     "traceback": [
      "\u001b[1;31m---------------------------------------------------------------------------\u001b[0m",
      "\u001b[1;31mValueError\u001b[0m                                Traceback (most recent call last)",
      "Cell \u001b[1;32mIn[134], line 38\u001b[0m\n\u001b[0;32m     35\u001b[0m     \u001b[38;5;28;01mreturn\u001b[39;00m code, state, stored_code_verifier  \u001b[38;5;66;03m# Devuelve el código, el estado y el code_verifier\u001b[39;00m\n\u001b[0;32m     37\u001b[0m \u001b[38;5;66;03m# --- Ejemplo de uso ---\u001b[39;00m\n\u001b[1;32m---> 38\u001b[0m code, state, code_verifier \u001b[38;5;241m=\u001b[39m obtener_codigo_autorizacion_con_selenium()\n\u001b[0;32m     40\u001b[0m \u001b[38;5;28;01mif\u001b[39;00m code \u001b[38;5;129;01mand\u001b[39;00m state:\n\u001b[0;32m     41\u001b[0m     \u001b[38;5;66;03m# --- ¡VERIFICACIÓN CRUCIAL DEL ESTADO! ---\u001b[39;00m\n\u001b[0;32m     42\u001b[0m     \u001b[38;5;66;03m# ... (verifica que 'state' coincida con 'stored_state') ...\u001b[39;00m\n\u001b[0;32m     43\u001b[0m     \u001b[38;5;28mprint\u001b[39m(\u001b[38;5;124mf\u001b[39m\u001b[38;5;124m\"\u001b[39m\u001b[38;5;124mcode: \u001b[39m\u001b[38;5;132;01m{\u001b[39;00mcode\u001b[38;5;132;01m}\u001b[39;00m\u001b[38;5;124m, state: \u001b[39m\u001b[38;5;132;01m{\u001b[39;00mstate\u001b[38;5;132;01m}\u001b[39;00m\u001b[38;5;124m\"\u001b[39m)\n",
      "\u001b[1;31mValueError\u001b[0m: not enough values to unpack (expected 3, got 2)"
     ]
    }
   ],
   "source": [
    "def obtener_codigo_autorizacion_con_selenium():\n",
    "    auth_url, stored_code_verifier, stored_state = get_authorization_url()\n",
    "    print(1)\n",
    "    options = webdriver.ChromeOptions()  # Opciones del navegador (puedes usar FirefoxOptions, etc.)\n",
    "    # options.add_argument(\"--headless\")  # Ejecutar el navegador en segundo plano (opcional)\n",
    "\n",
    "    driver = webdriver.Chrome(options=options)  # Inicializa el navegador (Chrome en este ejemplo)\n",
    "    driver.get(auth_url)  # Carga la URL de autorización\n",
    "    print(2)\n",
    "    # --- ¡INTERACCIÓN CON LA PÁGINA DE AUTORIZACIÓN! ---\n",
    "    # Aquí debes encontrar el botón de autorización y hacer clic en él.\n",
    "    # Esto dependerá de la estructura HTML de la página de autorización de Kick.\n",
    "    # Ejemplo:\n",
    "    try:\n",
    "        time.sleep(4)\n",
    "        boton_autorizar = driver.find_element(By.XPATH, \"//button[contains(text(), 'Allow Access')]\") # Contiene el texto \"Allow Access\"\n",
    "        boton_autorizar.click()\n",
    "        time.sleep(1)\n",
    "    except Exception as e:\n",
    "        print(f\"Error al hacer clic en el botón (XPath - Texto): {e}\")\n",
    "        driver.quit()\n",
    "        return None, None\n",
    "    print(3)\n",
    "    # --- CAPTURA LA URL DE REDIRECCIÓN ---\n",
    "    redirected_url = driver.current_url\n",
    "    driver.quit()  # Cierra el navegador\n",
    "    print(4)\n",
    "    # --- EXTRAE EL CÓDIGO DE AUTORIZACIÓN Y EL ESTADO ---\n",
    "    parsed_url = urlparse(redirected_url)\n",
    "    query_params = parse_qs(parsed_url.query)\n",
    "    print(5)\n",
    "    code = query_params.get(\"code\", [None])[0]\n",
    "    state = query_params.get(\"state\", [None])[0]\n",
    "    print(f\"code: {code}, state: {state}, stored_code_verifier: {stored_code_verifier}\")\n",
    "    return code, state, stored_code_verifier  # Devuelve el código, el estado y el code_verifier\n",
    "\n",
    "# --- Ejemplo de uso ---\n",
    "code, state, code_verifier = obtener_codigo_autorizacion_con_selenium()\n",
    "\n",
    "if code and state:\n",
    "    # --- ¡VERIFICACIÓN CRUCIAL DEL ESTADO! ---\n",
    "    # ... (verifica que 'state' coincida con 'stored_state') ...\n",
    "    print(f\"code: {code}, state: {state}\")\n",
    "    # token_data = get_access_token(code, code_verifier)\n",
    "    # ... (resto del código)\n",
    "else:\n",
    "    print(\"No se pudo obtener el código de autorización con Selenium.\")"
   ]
  },
  {
   "cell_type": "code",
   "execution_count": 151,
   "metadata": {},
   "outputs": [],
   "source": [
    "authorization_code  = 'YJBLYZQXODMTNDIWYY0ZYZY1LWFMMJETOGI0MJQZNWVIMWNI'"
   ]
  },
  {
   "cell_type": "code",
   "execution_count": 152,
   "metadata": {},
   "outputs": [
    {
     "name": "stdout",
     "output_type": "stream",
     "text": [
      "Token de acceso: N2FLZGFLMGMTOGU5MY0ZNDAZLTGYNJITZGQYZWQ2ZJCYOTEY\n",
      "Refresh token: NTLKMMFJMZUTZDIZNS01ODLKLTGXNZITYWRJZJQ3YJJLOTGW\n",
      "{'data': {}, 'message': 'Unauthorized'}\n",
      "Token refrescado correctamente.\n",
      "https://id.kick.com/oauth/revoke?token=N2FLZGFLMGMTOGU5MY0ZNDAZLTGYNJITZGQYZWQ2ZJCYOTEY&token_hint_type=access_token\n",
      "Error al revocar el token: 404 - \n",
      "https://id.kick.com/oauth/revoke?token=NTLKMMFJMZUTZDIZNS01ODLKLTGXNZITYWRJZJQ3YJJLOTGW&token_hint_type=refresh_token\n",
      "Error al revocar el token: 404 - \n"
     ]
    }
   ],
   "source": [
    "token_data = get_access_token(authorization_code, code_verifier)\n",
    "\n",
    "if token_data:\n",
    "    access_token = token_data[\"access_token\"]\n",
    "    refresh_token = token_data[\"refresh_token\"]\n",
    "    print(f\"Token de acceso: {access_token}\")\n",
    "    print(f\"Refresh token: {refresh_token}\")\n",
    "\n",
    "    # 5. Usar el access token para hacer solicitudes a la API de Kick\n",
    "    # ...\n",
    "    response = requests.get(\n",
    "        \"https://api.kick.com/public/v1/categories?q=ga%\",\n",
    "        headers={\"Authorization\":authorization_code},\n",
    "        \n",
    "    )\n",
    "    data = response.json()\n",
    "    print(data)\n",
    "\n",
    "    # 6. Refrescar el token (cuando expire)\n",
    "    new_token_data = refresh_access_token(refresh_token)\n",
    "    if new_token_data:\n",
    "        print(\"Token refrescado correctamente.\")\n",
    "\n",
    "    # 7. Revocar un token (cuando sea necesario)\n",
    "    revoke_token(access_token, \"access_token\") # Ejemplo: revocar el access token\n",
    "    revoke_token(refresh_token, \"refresh_token\") # Ejemplo: revocar el refresh token\n",
    "\n",
    "else:\n",
    "    print(\"No se pudo obtener el token.\")"
   ]
  },
  {
   "cell_type": "code",
   "execution_count": null,
   "metadata": {},
   "outputs": [
    {
     "name": "stdout",
     "output_type": "stream",
     "text": [
      "{'data': {}, 'message': 'Unauthorized'}\n"
     ]
    }
   ],
   "source": [
    "response = requests.get(\n",
    "    \"https://api.kick.com/public/v1/categories?q=\",\n",
    "    headers={\"Authorization\":access_token},\n",
    ")\n",
    "data = response.json()\n",
    "print(data)"
   ]
  },
  {
   "cell_type": "code",
   "execution_count": 66,
   "metadata": {},
   "outputs": [
    {
     "data": {
      "text/plain": [
       "{'data': {}, 'message': 'Unauthorized'}"
      ]
     },
     "execution_count": 66,
     "metadata": {},
     "output_type": "execute_result"
    }
   ],
   "source": [
    "data"
   ]
  },
  {
   "cell_type": "code",
   "execution_count": 150,
   "metadata": {},
   "outputs": [],
   "source": [
    "token_data"
   ]
  }
 ],
 "metadata": {
  "kernelspec": {
   "display_name": ".venv",
   "language": "python",
   "name": "python3"
  },
  "language_info": {
   "codemirror_mode": {
    "name": "ipython",
    "version": 3
   },
   "file_extension": ".py",
   "mimetype": "text/x-python",
   "name": "python",
   "nbconvert_exporter": "python",
   "pygments_lexer": "ipython3",
   "version": "3.11.9"
  }
 },
 "nbformat": 4,
 "nbformat_minor": 2
}
